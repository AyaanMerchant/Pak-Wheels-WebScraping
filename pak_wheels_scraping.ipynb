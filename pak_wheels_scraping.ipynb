{
 "cells": [
  {
   "cell_type": "markdown",
   "metadata": {},
   "source": [
    "Import Required Libraries"
   ]
  },
  {
   "cell_type": "code",
   "execution_count": 17,
   "metadata": {},
   "outputs": [],
   "source": [
    "from bs4 import BeautifulSoup\n",
    "import requests\n",
    "import pandas as pd"
   ]
  },
  {
   "cell_type": "markdown",
   "metadata": {},
   "source": [
    "Fetch URL Response"
   ]
  },
  {
   "cell_type": "code",
   "execution_count": null,
   "metadata": {},
   "outputs": [],
   "source": [
    "url = \"https://www.pakwheels.com/new-cars/bmw/\"\n",
    "\n",
    "response = requests.get(url)\n",
    "response"
   ]
  },
  {
   "cell_type": "markdown",
   "metadata": {},
   "source": [
    "Parse HTML and Find Car Data"
   ]
  },
  {
   "cell_type": "code",
   "execution_count": 4,
   "metadata": {},
   "outputs": [],
   "source": [
    "data = BeautifulSoup(response.content, \"html.parser\")\n",
    "cars = data.find_all(class_=\"col-md-3\")"
   ]
  },
  {
   "cell_type": "markdown",
   "metadata": {},
   "source": [
    "Extract Links for Cars"
   ]
  },
  {
   "cell_type": "code",
   "execution_count": null,
   "metadata": {},
   "outputs": [],
   "source": [
    "links = []\n",
    "\n",
    "if data.find_all(class_ = \"col-md-3\"): \n",
    "    for tag in data.find_all(class_=\"show\"):\n",
    "        link = \"https://www.pakwheels.com\" + tag.get(\"href\")\n",
    "        links.append(link)\n",
    "\n",
    "print(links)"
   ]
  },
  {
   "cell_type": "markdown",
   "metadata": {},
   "source": [
    "Fetch the Web Page"
   ]
  },
  {
   "cell_type": "code",
   "execution_count": null,
   "metadata": {},
   "outputs": [],
   "source": [
    "data_list = []\n",
    "\n",
    "for link in links:\n",
    "    response = requests.get(link)\n",
    "    car_data = BeautifulSoup(response.content, \"html.parser\")"
   ]
  },
  {
   "cell_type": "markdown",
   "metadata": {},
   "source": [
    "Extract the Title"
   ]
  },
  {
   "cell_type": "code",
   "execution_count": null,
   "metadata": {},
   "outputs": [],
   "source": [
    "# Extract the title from the page\n",
    "title = car_data.find(\"h2\")  # Locate the <h2> tag (if it exists)\n",
    "title_text = title.text.strip() if title else \"No Title\"  # Extract and clean the title text\n",
    "print(f\"Title extracted: {title_text}\")"
   ]
  },
  {
   "cell_type": "markdown",
   "metadata": {},
   "source": [
    "Extract the Table Data"
   ]
  },
  {
   "cell_type": "code",
   "execution_count": null,
   "metadata": {},
   "outputs": [],
   "source": [
    "# Extract table data (if a table is found)\n",
    "table = car_data.find(\"table\", class_=\"table bike-version-detailscont\")\n",
    "if table:\n",
    "    table_rows = table.find_all('tr')  # Find all rows in the table\n",
    "    for row in table_rows:\n",
    "        table_data = row.find_all('td')  # Find all table data cells\n",
    "        if len(table_data) >= 2:  # Ensure there are at least two columns\n",
    "            key = table_data[0].text.strip()  # Extract the key (first column)\n",
    "            value = table_data[1].text.strip()  # Extract the value (second column)\n",
    "            data_list.append({\"Title\": title_text, \"Key\": key, \"Value\": value})\n",
    "            print(f\"Added data: {key} -> {value}\")\n",
    "else:\n",
    "    # If no table is found, add a placeholder\n",
    "    data_list.append({\"Title\": title_text, \"Key\": \"No Data\", \"Value\": \"No Data\"})\n",
    "    print(\"No table data found for this link\")\n"
   ]
  },
  {
   "cell_type": "markdown",
   "metadata": {},
   "source": [
    "Convert Data to a DataFrame"
   ]
  },
  {
   "cell_type": "code",
   "execution_count": null,
   "metadata": {},
   "outputs": [],
   "source": [
    "# Convert the list of dictionaries into a pandas DataFrame\n",
    "df = pd.DataFrame(data_list)\n",
    "\n",
    "print(\"Data converted to DataFrame!\")\n",
    "df.head()  # Display the first few rows of the DataFrame for verification"
   ]
  },
  {
   "cell_type": "markdown",
   "metadata": {},
   "source": [
    "Save Data to Excel"
   ]
  },
  {
   "cell_type": "code",
   "execution_count": 30,
   "metadata": {},
   "outputs": [
    {
     "name": "stdout",
     "output_type": "stream",
     "text": [
      "Data has been saved to web_scraped_data.xlsx\n"
     ]
    }
   ],
   "source": [
    "# Save the DataFrame to an Excel file\n",
    "output_file = \"web_scraped_data.xlsx\"\n",
    "df.to_excel(output_file, index=False)\n",
    "\n",
    "print(f\"Data has been saved to {output_file}\")"
   ]
  }
 ],
 "metadata": {
  "kernelspec": {
   "display_name": "base",
   "language": "python",
   "name": "python3"
  },
  "language_info": {
   "codemirror_mode": {
    "name": "ipython",
    "version": 3
   },
   "file_extension": ".py",
   "mimetype": "text/x-python",
   "name": "python",
   "nbconvert_exporter": "python",
   "pygments_lexer": "ipython3",
   "version": "3.12.7"
  }
 },
 "nbformat": 4,
 "nbformat_minor": 2
}
